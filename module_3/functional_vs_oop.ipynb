{
 "cells": [
  {
   "cell_type": "markdown",
   "id": "0768170a",
   "metadata": {},
   "source": [
    "Module 3"
   ]
  },
  {
   "cell_type": "code",
   "execution_count": 2,
   "id": "de33f179",
   "metadata": {},
   "outputs": [
    {
     "name": "stdout",
     "output_type": "stream",
     "text": [
      "[0, 0, 0, 0, 0, 1, 1, 1, 1, 1, 2, 2, 3]\n"
     ]
    }
   ],
   "source": [
    "class Solution:\n",
    "    # Function to sort an array of 0s, 1s, and 2s\n",
    "    def sort012(self, arr):\n",
    "        n = len(arr)\n",
    "        for i in range(n):\n",
    "            min_index = i\n",
    "            for j in range(i + 1, n):\n",
    "                if arr[j] < arr[min_index]:\n",
    "                    min_index = j\n",
    "            # Swap the found minimum element with the first element\n",
    "            arr[i], arr[min_index] = arr[min_index], arr[i]\n",
    "\n",
    "array = [0, 1, 1, 0, 1, 2, 1, 2, 0, 0, 3, 0, 1]\n",
    "Solution().sort012(array)\n",
    "print(array)\n",
    "\n",
    "\n",
    "        "
   ]
  },
  {
   "cell_type": "code",
   "execution_count": 6,
   "id": "51a0a982",
   "metadata": {},
   "outputs": [
    {
     "name": "stdout",
     "output_type": "stream",
     "text": [
      "[0, 0, 0, 0, 0, 1, 1, 1, 1, 1, 2, 2]\n",
      "-1\n"
     ]
    }
   ],
   "source": [
    "class Solution:\n",
    "    # Function to sort an array of 0s, 1s, and 2s\n",
    "    def sort012(self, arr):\n",
    "        n = len(arr)\n",
    "        for i in range(n):\n",
    "            min_index = i\n",
    "            for j in range(i + 1, n):\n",
    "                if arr[j] < arr[min_index]:\n",
    "                    min_index = j\n",
    "            # Swap the found minimum element with the first element\n",
    "            arr[i], arr[min_index] = arr[min_index], arr[i]\n",
    "    def binarysearch(self, arr, k):\n",
    "        left, right = 0, len(arr) - 1\n",
    "        result = -1\n",
    "\n",
    "        while left <= right:\n",
    "            mid = left + (right - left) // 2\n",
    "\n",
    "            if arr[mid] == k:\n",
    "                result = mid\n",
    "                right = mid - 1  # Search in the left half for the first occurrence\n",
    "            elif arr[mid] < k:\n",
    "                left = mid + 1\n",
    "            else:\n",
    "                right = mid - 1\n",
    "\n",
    "        return result\n",
    "\n",
    "array = [0, 1, 1, 0, 1, 2, 1, 2, 0, 0, 0, 1]\n",
    "Solution().sort012(array)\n",
    "print(array)\n",
    "\n",
    "print(Solution().binarysearch(array, 3))"
   ]
  }
 ],
 "metadata": {
  "kernelspec": {
   "display_name": "Python 3",
   "language": "python",
   "name": "python3"
  },
  "language_info": {
   "codemirror_mode": {
    "name": "ipython",
    "version": 3
   },
   "file_extension": ".py",
   "mimetype": "text/x-python",
   "name": "python",
   "nbconvert_exporter": "python",
   "pygments_lexer": "ipython3",
   "version": "3.12.10"
  }
 },
 "nbformat": 4,
 "nbformat_minor": 5
}
