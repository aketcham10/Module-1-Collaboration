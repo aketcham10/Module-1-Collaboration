{
 "cells": [
  {
   "cell_type": "markdown",
   "id": "3526429a",
   "metadata": {},
   "source": [
    "### 11.1 / 11.2"
   ]
  },
  {
   "cell_type": "code",
   "execution_count": 16,
   "id": "63cef4b7",
   "metadata": {},
   "outputs": [
    {
     "name": "stdout",
     "output_type": "stream",
     "text": [
      "Open 9-5 daily\n"
     ]
    }
   ],
   "source": [
    "import zoo as menagerie\n",
    "menagerie.hours()"
   ]
  },
  {
   "cell_type": "markdown",
   "id": "d78b2842",
   "metadata": {},
   "source": [
    "### 16.8"
   ]
  },
  {
   "cell_type": "code",
   "execution_count": 15,
   "id": "6fde9774",
   "metadata": {},
   "outputs": [
    {
     "name": "stdout",
     "output_type": "stream",
     "text": [
      "Table created and data inserted successfully.\n",
      "('To Kill a Mockingbird',)\n"
     ]
    }
   ],
   "source": [
    "import sqlite3\n",
    "\n",
    "try:\n",
    "    with sqlite3.connect('this_database.db') as conn:\n",
    "        cursor = conn.cursor()\n",
    "\n",
    "        cursor.execute('''\n",
    "            CREATE TABLE IF NOT EXISTS books (\n",
    "                id INTEGER PRIMARY KEY,\n",
    "                title TEXT NOT NULL,\n",
    "                author TEXT NOT NULL,\n",
    "                year INTEGER NOT NULL\n",
    "            )\n",
    "        ''')\n",
    "        cursor.execute('''\n",
    "            INSERT INTO books (id, title, author, year)\n",
    "            VALUES\n",
    "                (1, 'To Kill a Mockingbird', 'Harper Lee', 1960)\n",
    "                ''')\n",
    "        print(\"Table created and data inserted successfully.\")\n",
    "\n",
    "        cursor.execute(\"SELECT title FROM books\")\n",
    "        rows = cursor.fetchall()\n",
    "        for row in rows:\n",
    "            print(row)\n",
    "\n",
    "except sqlite3.Error as e:\n",
    "    print(f\"SQLite error: {e}\")"
   ]
  }
 ],
 "metadata": {
  "kernelspec": {
   "display_name": "Python 3",
   "language": "python",
   "name": "python3"
  },
  "language_info": {
   "codemirror_mode": {
    "name": "ipython",
    "version": 3
   },
   "file_extension": ".py",
   "mimetype": "text/x-python",
   "name": "python",
   "nbconvert_exporter": "python",
   "pygments_lexer": "ipython3",
   "version": "3.12.10"
  }
 },
 "nbformat": 4,
 "nbformat_minor": 5
}
